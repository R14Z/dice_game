{
 "cells": [
  {
   "cell_type": "code",
   "execution_count": 1,
   "metadata": {},
   "outputs": [],
   "source": [
    "import random"
   ]
  },
  {
   "cell_type": "code",
   "execution_count": 2,
   "metadata": {},
   "outputs": [],
   "source": [
    "number = random.randint(1,10)"
   ]
  },
  {
   "cell_type": "markdown",
   "metadata": {},
   "source": [
    "Randint function = random integer"
   ]
  },
  {
   "cell_type": "code",
   "execution_count": 3,
   "metadata": {},
   "outputs": [
    {
     "data": {
      "text/plain": [
       "7"
      ]
     },
     "execution_count": 3,
     "metadata": {},
     "output_type": "execute_result"
    }
   ],
   "source": [
    "number"
   ]
  },
  {
   "cell_type": "code",
   "execution_count": 4,
   "metadata": {},
   "outputs": [],
   "source": [
    "def Dice_Roll():\n",
    "    diceroll = random.randint(1, 6)\n",
    "    return diceroll"
   ]
  },
  {
   "cell_type": "code",
   "execution_count": 5,
   "metadata": {},
   "outputs": [
    {
     "data": {
      "text/plain": [
       "4"
      ]
     },
     "execution_count": 5,
     "metadata": {},
     "output_type": "execute_result"
    }
   ],
   "source": [
    "Dice_Roll()"
   ]
  },
  {
   "cell_type": "code",
   "execution_count": 6,
   "metadata": {},
   "outputs": [
    {
     "data": {
      "text/plain": [
       "4"
      ]
     },
     "execution_count": 6,
     "metadata": {},
     "output_type": "execute_result"
    }
   ],
   "source": [
    "Dice_Roll()"
   ]
  },
  {
   "cell_type": "code",
   "execution_count": 7,
   "metadata": {},
   "outputs": [
    {
     "data": {
      "text/plain": [
       "4"
      ]
     },
     "execution_count": 7,
     "metadata": {},
     "output_type": "execute_result"
    }
   ],
   "source": [
    "Dice_Roll()"
   ]
  },
  {
   "cell_type": "code",
   "execution_count": 8,
   "metadata": {},
   "outputs": [
    {
     "data": {
      "text/plain": [
       "1"
      ]
     },
     "execution_count": 8,
     "metadata": {},
     "output_type": "execute_result"
    }
   ],
   "source": [
    "Dice_Roll()"
   ]
  },
  {
   "cell_type": "code",
   "execution_count": 1,
   "metadata": {},
   "outputs": [],
   "source": [
    "import random\n",
    "def Dice_Roll():\n",
    "            diceroll = random.randint(1, 6)\n",
    "            return diceroll\n",
    "def Shush_Roll():\n",
    "    shushroll = random.randint(1,6)\n",
    "    return shushroll\n",
    "    \n",
    "def main():\n",
    "     \n",
    "    \n",
    "    player1 = 0 \n",
    "    player2 = 0\n",
    "    rounds  = 1\n",
    "    \n",
    "    while rounds != 10:\n",
    "        print(\"Round\" + str(rounds))\n",
    "        player1 = Dice_Roll()\n",
    "        player2 = Shush_Roll()\n",
    "        print(\"Player 1 Roll :\" + str(player1))\n",
    "        print(\"Player 2 Roll :\" + str(player2))\n",
    "        \n",
    "        if player1 == player2:\n",
    "            print(\"Draw!\")\n",
    "        elif player1 > player2:\n",
    "            print(\"Player 1 wins\")\n",
    "        else:\n",
    "            print(\"Player 2 wins\")\n",
    "        \n",
    "        \n",
    "        \n",
    "        rounds = rounds + 1 \n",
    "    \n",
    "    \n",
    "    \n",
    "\n",
    "       "
   ]
  },
  {
   "cell_type": "code",
   "execution_count": 3,
   "metadata": {
    "scrolled": true
   },
   "outputs": [
    {
     "name": "stdout",
     "output_type": "stream",
     "text": [
      "Round1\n",
      "Player 1 Roll :1\n",
      "Player 2 Roll :4\n",
      "Player 2 wins\n",
      "Round2\n",
      "Player 1 Roll :5\n",
      "Player 2 Roll :5\n",
      "Draw!\n",
      "Round3\n",
      "Player 1 Roll :1\n",
      "Player 2 Roll :4\n",
      "Player 2 wins\n",
      "Round4\n",
      "Player 1 Roll :5\n",
      "Player 2 Roll :3\n",
      "Player 1 wins\n",
      "Round5\n",
      "Player 1 Roll :2\n",
      "Player 2 Roll :5\n",
      "Player 2 wins\n",
      "Round6\n",
      "Player 1 Roll :3\n",
      "Player 2 Roll :3\n",
      "Draw!\n",
      "Round7\n",
      "Player 1 Roll :6\n",
      "Player 2 Roll :6\n",
      "Draw!\n",
      "Round8\n",
      "Player 1 Roll :6\n",
      "Player 2 Roll :5\n",
      "Player 1 wins\n",
      "Round9\n",
      "Player 1 Roll :6\n",
      "Player 2 Roll :5\n",
      "Player 1 wins\n"
     ]
    }
   ],
   "source": [
    "main()"
   ]
  },
  {
   "cell_type": "code",
   "execution_count": null,
   "metadata": {},
   "outputs": [],
   "source": []
  }
 ],
 "metadata": {
  "kernelspec": {
   "display_name": "Python 3",
   "language": "python",
   "name": "python3"
  },
  "language_info": {
   "codemirror_mode": {
    "name": "ipython",
    "version": 3
   },
   "file_extension": ".py",
   "mimetype": "text/x-python",
   "name": "python",
   "nbconvert_exporter": "python",
   "pygments_lexer": "ipython3",
   "version": "3.8.5"
  }
 },
 "nbformat": 4,
 "nbformat_minor": 4
}
